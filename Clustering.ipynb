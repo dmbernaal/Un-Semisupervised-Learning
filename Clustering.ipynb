{
 "cells": [
  {
   "cell_type": "markdown",
   "metadata": {},
   "source": [
    "# Clustering\n",
    "Clustering attempts to group objects together based on similarity. Clustering achieves this without using any labels, comparing how similar the data for one observation is to data for other observations and groups. \n",
    "\n",
    "Example: Clustering can group fraudulent transactions together, seperating them from normal transactions. \n",
    "\n",
    "If we have only a few labels for observations in our dataset, we could use clustering to group the observations first (without labels). Then, we could **transfer** the labels of the few labeled observations to the rest of the observations within the same group. \n",
    "\n",
    "Ths is a form of **transfer learning**. "
   ]
  },
  {
   "cell_type": "code",
   "execution_count": 3,
   "metadata": {},
   "outputs": [],
   "source": [
    "import numpy as np\n",
    "import pandas as pd\n",
    "\n",
    "import os, time, pickle, gzip \n",
    "\n",
    "import matplotlib.pyplot as plt\n",
    "import seaborn as sns\n",
    "import matplotlib as mpl\n",
    "\n",
    "from sklearn import preprocessing as pp\n",
    "from sklearn.model_selection import train_test_split\n",
    "from sklearn.metrics import precision_recall_curve, average_precision_score, roc_curve, auc, roc_auc_score"
   ]
  },
  {
   "cell_type": "code",
   "execution_count": 12,
   "metadata": {},
   "outputs": [],
   "source": [
    "# Loading MNIST Dataset\n",
    "file = './datasets/mnist_data/mnist.pkl.gz'"
   ]
  },
  {
   "cell_type": "code",
   "execution_count": 14,
   "metadata": {},
   "outputs": [],
   "source": [
    "f = gzip.open(file, \"rb\")\n",
    "train_set, validation_set, test_set = pickle.load(f, encoding=\"latin1\")\n",
    "f.close()"
   ]
  },
  {
   "cell_type": "code",
   "execution_count": 19,
   "metadata": {},
   "outputs": [],
   "source": [
    "X_train, y_train = train_set[0], train_set[1]\n",
    "X_validation, y_validation = validation_set[0], validation_set[1]\n",
    "X_test, y_test = test_set[0], test_set[1]"
   ]
  },
  {
   "cell_type": "code",
   "execution_count": 22,
   "metadata": {},
   "outputs": [],
   "source": [
    "# Indexes for pandas\n",
    "train_index = range(0, len(X_train))\n",
    "validation_index = range(len(X_train), len(X_train)+len(X_validation))\n",
    "test_index = range(len(X_train)+len(X_validation), len(X_train)+len(X_validation)+len(X_test))"
   ]
  },
  {
   "cell_type": "code",
   "execution_count": 27,
   "metadata": {},
   "outputs": [],
   "source": [
    "# Converting to pandas\n",
    "X_train = pd.DataFrame(data=X_train, index=train_index)\n",
    "y_train = pd.Series(data=y_train, index=train_index)\n",
    "\n",
    "X_validation = pd.DataFrame(data=X_validation, index=validation_index)\n",
    "y_validation = pd.Series(data=y_validation, index=validation_index)\n",
    "\n",
    "X_test = pd.DataFrame(data=X_test, index=test_index)\n",
    "y_test = pd.DataFrame(data=y_test, index=test_index)"
   ]
  },
  {
   "cell_type": "markdown",
   "metadata": {},
   "source": [
    "Before appling clustering algorithms we will apply dimensionality reduction algorithms to our data. We will specifically use PCA. \n",
    "\n",
    "*remember: dimensionality reduction algorithms capture salient information while reducing the size of the dataset. As we move from a high number of dimensions to a lower number, the noise in the dataset is minimized. PCA will capture the most important aspects of the original data and cannot devote attention to infrequently occuring elements (noise).*"
   ]
  },
  {
   "cell_type": "code",
   "execution_count": 29,
   "metadata": {},
   "outputs": [],
   "source": [
    "# PCA\n",
    "from sklearn.decomposition import PCA"
   ]
  },
  {
   "cell_type": "code",
   "execution_count": 30,
   "metadata": {},
   "outputs": [],
   "source": [
    "# Hyper parameters\n",
    "n_component = 784\n",
    "whiten = False\n",
    "random_state = 2018"
   ]
  },
  {
   "cell_type": "code",
   "execution_count": 31,
   "metadata": {},
   "outputs": [],
   "source": [
    "# Instantiating model\n",
    "pca = PCA(n_components=n_component, whiten=whiten, random_state=random_state)"
   ]
  },
  {
   "cell_type": "code",
   "execution_count": 32,
   "metadata": {},
   "outputs": [],
   "source": [
    "# Let's apply PCA \n",
    "X_train_PCA = pca.fit_transform(X_train)\n",
    "X_train_PCA = pd.DataFrame(data=X_train_PCA, index=train_index)"
   ]
  },
  {
   "cell_type": "markdown",
   "metadata": {},
   "source": [
    "# k-Means\n",
    "The objective of clustering is to identify distinct groups in a dataset such that the observations within a group are similar to each other but different from observation in other groups. \n",
    "\n",
    "In *k-Means* clustering, we specify the number of desired clusters ```k```, and the algorithm will assign each observation to exactly one of these k clusters. \n",
    "\n",
    "The algorithm optimizes the groups by minimizing the **within-cluster variation** (the *inertia*) such taht the sum of the within-cluster variations across all k-clusters is as small as possible.\n",
    "\n",
    "Different runs of k-means will result in slightly different cluster assignments because k-means randomly assigns each observation to one of the k-clusters to kick off the clustering process. \n",
    "\n",
    "After this random initialization, k-means reassigns the observations to different clusters it attempts to minimize the Euclidean distance between each observaton and its cluster's center point (centroid). \n",
    "\n",
    "k-means algorithm does several runs and chooses the run that has the best seperation, defined as the lowest total sum of within cluster variation across all k-clusters. \n",
    "\n",
    "## k-Means Inertia\n",
    "We need to set the number of clusters we would like ```n_clusters```, the number of initializations we would like to perform ```n_inits```, the maximum number of iterations the algorithm will run to reassign observations to minimize inertia ```max_iter```, and the tolerance to declare convergence ```tol```."
   ]
  },
  {
   "cell_type": "code",
   "execution_count": 33,
   "metadata": {},
   "outputs": [],
   "source": [
    "from sklearn.cluster import KMeans"
   ]
  },
  {
   "cell_type": "code",
   "execution_count": 34,
   "metadata": {},
   "outputs": [],
   "source": [
    "n_clusters = 10\n",
    "n_init = 10\n",
    "max_iter = 300\n",
    "tol = 0.0001\n",
    "random_state = 2018\n",
    "n_jobs = 2"
   ]
  },
  {
   "cell_type": "code",
   "execution_count": 35,
   "metadata": {},
   "outputs": [],
   "source": [
    "k_mean_inertia = pd.DataFrame(data=[], index=range(2,21), columns=['inertia'])"
   ]
  },
  {
   "cell_type": "code",
   "execution_count": 43,
   "metadata": {},
   "outputs": [],
   "source": [
    "# Testing out number of clusters and performance\n",
    "for n_clusters in range(2,21):\n",
    "    \n",
    "    # Initliaze per loop\n",
    "    k_means = KMeans(n_clusters=n_clusters, n_init=n_init, max_iter=max_iter, tol=tol, random_state=random_state, n_jobs=n_jobs)\n",
    "    \n",
    "    cutoff = 99\n",
    "    k_means.fit(X_train_PCA.loc[:,0:cutoff])\n",
    "    k_mean_inertia.loc[n_clusters] = k_means.inertia_"
   ]
  },
  {
   "cell_type": "code",
   "execution_count": 44,
   "metadata": {},
   "outputs": [
    {
     "data": {
      "text/plain": [
       "<matplotlib.axes._subplots.AxesSubplot at 0x137b98e80>"
      ]
     },
     "execution_count": 44,
     "metadata": {},
     "output_type": "execute_result"
    },
    {
     "data": {
      "image/png": "[encoded data removed]",
      "text/plain": [
       "<Figure size 432x288 with 1 Axes>"
      ]
     },
     "metadata": {
      "needs_background": "light"
     },
     "output_type": "display_data"
    }
   ],
   "source": [
    "k_mean_inertia.plot()"
   ]
  },
  {
   "cell_type": "code",
   "execution_count": 51,
   "metadata": {},
   "outputs": [],
   "source": [
    "# Defining our analyzation function\n",
    "def analyze_cluster(cluster_DF, labels_DF):\n",
    "    # counting number of observations in each cluster\n",
    "    count_by_cluster = pd.DataFrame(data=cluster_DF['cluster'].value_counts())\n",
    "    count_by_cluster.reset_index(inplace=True,drop=False)\n",
    "    count_by_cluster.columns = ['cluster', 'cluster_count']\n",
    "    \n",
    "    # joining clusterdf with true labels\n",
    "    preds = pd.concat([labels_DF,cluster_DF], axis=1)\n",
    "    preds.columns = ['true_label', 'cluster']\n",
    "    \n",
    "    # counting number of observations for each true label in training set\n",
    "    count_by_label = pd.DataFrame(data=preds.groupby('true_label').count())\n",
    "    \n",
    "    # counting frequency per cluster\n",
    "    count_most_freq = pd.DataFrame(data=preds.groupby('cluster').agg(lambda x:x.value_counts().iloc[0]))\n",
    "    count_most_freq.reset_index(inplace=True, drop=False)\n",
    "    count_most_freq.columns = ['cluster', 'count_most_frequent']\n",
    "    \n",
    "    \"\"\"\n",
    "    Lets define the overall accuracy of the clustering as the sum of the counts of the most frequently occuring observations across all the clusters divided by the total number of observations in the training set\n",
    "    \"\"\"\n",
    "    accuracy_DF = count_most_freq.merge(count_by_cluster,left_on=\"cluster\",right_on=\"cluster\")\n",
    "    overall_accuracy = accuracy_DF['count_most_frequent'].sum() / accuracy_DF['cluster_count'].sum()\n",
    "    \n",
    "    accuracy_by_label = accuracy_DF['count_most_frequent'] / accuracy_DF['cluster_count']\n",
    "    \n",
    "    return count_by_cluster, count_by_label, count_most_freq, accuracy_DF, overall_accuracy, accuracy_by_label"
   ]
  },
  {
   "cell_type": "code",
   "execution_count": 52,
   "metadata": {},
   "outputs": [],
   "source": [
    "# Let's experiment\n",
    "n_clusters = 5\n",
    "n_iter = 10\n",
    "max_iter = 300\n",
    "tol = 0.0001\n",
    "random_state = 2018\n",
    "n_jobs = 2"
   ]
  },
  {
   "cell_type": "code",
   "execution_count": 53,
   "metadata": {},
   "outputs": [],
   "source": [
    "k_means_inertia = pd.DataFrame(data=[], index=range(2,21), columns=['inertia'])\n",
    "overall_accuracy_k_means_DF = pd.DataFrame(data=[], index=range(2,21), columns=['overall_accuracy'])"
   ]
  },
  {
   "cell_type": "code",
   "execution_count": 54,
   "metadata": {},
   "outputs": [],
   "source": [
    "for n_clusters in range(2,21):\n",
    "    k_means = KMeans(n_clusters=n_clusters, n_init=n_init, max_iter=max_iter, tol=tol, random_state=random_state, n_jobs=n_jobs)\n",
    "    \n",
    "    cutoff = 99\n",
    "    k_means.fit(X_train_PCA.loc[:,0:cutoff])\n",
    "    k_means_inertia.loc[n_clusters] = k_means.inertia_\n",
    "    \n",
    "    X_train_k_means_clustered = k_means.predict(X_train_PCA.loc[:,0:cutoff])\n",
    "    X_train_k_means_clustered = pd.DataFrame(data=X_train_k_means_clustered, index=X_train.index, columns=['cluster'])\n",
    "    \n",
    "    count_by_cluster_k_means, count_by_label_k_means, count_most_freq_k_means, accuracy_DF_k_means, overall_accuracy_k_means, accuracy_by_labels_k_means = analyze_cluster(X_train_k_means_clustered, y_train)\n",
    "    \n",
    "    overall_accuracy_k_means_DF.loc[n_clusters] = overall_accuracy_k_means"
   ]
  },
  {
   "cell_type": "code",
   "execution_count": 55,
   "metadata": {},
   "outputs": [
    {
     "data": {
      "text/plain": [
       "<matplotlib.axes._subplots.AxesSubplot at 0x10dd0e358>"
      ]
     },
     "execution_count": 55,
     "metadata": {},
     "output_type": "execute_result"
    },
    {
     "data": {
      "image/png": "[encoded data removed]",
      "text/plain": [
       "<Figure size 432x288 with 1 Axes>"
      ]
     },
     "metadata": {
      "needs_background": "light"
     },
     "output_type": "display_data"
    }
   ],
   "source": [
    "overall_accuracy_k_means_DF.plot()"
   ]
  },
  {
   "cell_type": "markdown",
   "metadata": {},
   "source": [
    "Accuracy improves as the number of clusters increases. Clusters therefor become more homogenous as we increase the number of clusters because each cluster becomes smaller and more tightly formed. \n",
    "\n",
    "## k-Means and number of Principal Components\n",
    "Clustering should perform just as well using 10 or 50 principal components as it does using 100 or 700 principal components\n",
    "\n",
    "Let's test this hypothesis:"
   ]
  },
  {
   "cell_type": "code",
   "execution_count": 61,
   "metadata": {},
   "outputs": [],
   "source": [
    "n_clusters = 20\n",
    "n_init = 10\n",
    "max_iter = 300\n",
    "tol = 0.0001\n",
    "random_state = 2018\n",
    "n_jobs = 2"
   ]
  },
  {
   "cell_type": "code",
   "execution_count": 62,
   "metadata": {},
   "outputs": [],
   "source": [
    "k_means_inertia = pd.DataFrame(data=[], index=[9, 49, 99, 199, 299, 399, 499, 599, 699, 784], columns=['inertia'])\n",
    "\n",
    "overall_accuracy_kmeans_DF = pd.DataFrame(data=[], index=[9, 49, 99, 199, 299, 399, 499, 599, 699, 784], columns=['overall_accuracy'])"
   ]
  },
  {
   "cell_type": "code",
   "execution_count": null,
   "metadata": {},
   "outputs": [],
   "source": [
    "## Takes a while to run\n",
    "# for cutoff_numbers in [9, 49, 99, 199, 299, 399, 499, 599, 699, 784]:\n",
    "#     kmeans = KMeans(n_clusters=n_clusters, n_init=n_init, max_iter=max_iter, tol=tol, random_state=random_state, n_jobs=n_jobs)\n",
    "    \n",
    "#     cutoff = cutoff_numbers # looping through number of PCs\n",
    "    \n",
    "#     kmeans.fit(X_train_PCA.loc[:,0:cutoff])\n",
    "    \n",
    "#     k_mean_inertia.loc[cutoff] = kmeans.inertia_\n",
    "    \n",
    "#     X_train_kmeans_clustered = kmeans.predict(X_train_PCA.loc[:,0:cutoff])\n",
    "#     X_train_kmeans_clustered = pd.DataFrame(data=X_train_kmeans_clustered, index=X_train.index, columns=['cluster'])\n",
    "    \n",
    "#     count_by_cluster_kmeans, count_by_label_kmeans, count_most_freq_kmeans, accuracy_df_kmeans, overall_accuracy_kmeans, accuracy_by_label_kmeans = analyze_cluster(X_train_kmeans_clustered, y_train)\n",
    "    \n",
    "#     overall_accuracy_kmeans_DF.loc[cutoff] = overall_accuracy_kmeans\n",
    "    \n",
    "# overall_accuracy_kmeans.plot()"
   ]
  },
  {
   "cell_type": "markdown",
   "metadata": {},
   "source": [
    "If you were to conduct an experiment measuring k-Means accuracy with reduced dimensions not via PCA (or other strong dimensionality reduction methods), you will notice that the accuracy is drastically lower with fewer dimensions. \n",
    "\n",
    "That is to say, PCA is a powerful algorithm as we maintain ~70 accuracy from 10 to 784 Principal components. \n",
    "\n",
    "That is, with just 10 dimensions (PCA), we can achieve just as great performance via k-Means. Which is much more efficient in terms of memory and speed to process.\n",
    "\n",
    "# Hierarchical Clustering\n",
    "We choose how many clusters we would like after hierchical clustering has finished running (opposed to initializing clusters). \n",
    "\n",
    "The hierarchical clustering algorithm will build a *dendrogram*, which can be depicted as an upside-down tree. \n",
    "\n",
    "The 'leaves' at the very bottom of the tree are individual instances in the dataset. Hierarchical clustering then joins the leaves together - as you move up the tree. \n",
    "\n",
    "The instances that are most similar to each other are joined sooned, while instances that are not as similar are joined later. \n",
    "\n",
    "Once the algorithm is finished running, we can view the dendrogram and determine where we want to cut the tree, the lower we cut, the more individual branches we are left with. \n",
    "\n",
    "## Agglomerative Hierarchical Clustering\n",
    "We will use *fastcluster* which is a C++ library with an interface in Python/SciPy "
   ]
  },
  {
   "cell_type": "code",
   "execution_count": 68,
   "metadata": {},
   "outputs": [],
   "source": [
    "import fastcluster\n",
    "from scipy.cluster.hierarchy import dendrogram, cophenet\n",
    "from scipy.spatial.distance import pdist"
   ]
  },
  {
   "cell_type": "code",
   "execution_count": 70,
   "metadata": {},
   "outputs": [],
   "source": [
    "cutoff = 100\n",
    "Z = fastcluster.linkage_vector(X_train_PCA.loc[:,0:cutoff], method=\"ward\", metric=\"euclidean\")\n",
    "Z_df = pd.DataFrame(data=Z,columns=['cluster_one','cluster_two','distance','new_cluster_size'])"
   ]
  },
  {
   "cell_type": "code",
   "execution_count": 71,
   "metadata": {},
   "outputs": [
    {
     "data": {
      "text/html": [
       "<div>\n",
       "<style scoped>\n",
       "    .dataframe tbody tr th:only-of-type {\n",
       "        vertical-align: middle;\n",
       "    }\n",
       "\n",
       "    .dataframe tbody tr th {\n",
       "        vertical-align: top;\n",
       "    }\n",
       "\n",
       "    .dataframe thead th {\n",
       "        text-align: right;\n",
       "    }\n",
       "</style>\n",
       "<table border=\"1\" class=\"dataframe\">\n",
       "  <thead>\n",
       "    <tr style=\"text-align: right;\">\n",
       "      <th></th>\n",
       "      <th>cluster_one</th>\n",
       "      <th>cluster_two</th>\n",
       "      <th>distance</th>\n",
       "      <th>new_cluster_size</th>\n",
       "    </tr>\n",
       "  </thead>\n",
       "  <tbody>\n",
       "    <tr>\n",
       "      <th>0</th>\n",
       "      <td>42194.0</td>\n",
       "      <td>43025.0</td>\n",
       "      <td>0.567125</td>\n",
       "      <td>2.0</td>\n",
       "    </tr>\n",
       "    <tr>\n",
       "      <th>1</th>\n",
       "      <td>28350.0</td>\n",
       "      <td>37674.0</td>\n",
       "      <td>0.592486</td>\n",
       "      <td>2.0</td>\n",
       "    </tr>\n",
       "    <tr>\n",
       "      <th>2</th>\n",
       "      <td>26696.0</td>\n",
       "      <td>44705.0</td>\n",
       "      <td>0.623957</td>\n",
       "      <td>2.0</td>\n",
       "    </tr>\n",
       "    <tr>\n",
       "      <th>3</th>\n",
       "      <td>12634.0</td>\n",
       "      <td>32823.0</td>\n",
       "      <td>0.627941</td>\n",
       "      <td>2.0</td>\n",
       "    </tr>\n",
       "    <tr>\n",
       "      <th>4</th>\n",
       "      <td>24707.0</td>\n",
       "      <td>43151.0</td>\n",
       "      <td>0.639227</td>\n",
       "      <td>2.0</td>\n",
       "    </tr>\n",
       "  </tbody>\n",
       "</table>\n",
       "</div>"
      ],
      "text/plain": [
       "   cluster_one  cluster_two  distance  new_cluster_size\n",
       "0      42194.0      43025.0  0.567125               2.0\n",
       "1      28350.0      37674.0  0.592486               2.0\n",
       "2      26696.0      44705.0  0.623957               2.0\n",
       "3      12634.0      32823.0  0.627941               2.0\n",
       "4      24707.0      43151.0  0.639227               2.0"
      ]
     },
     "execution_count": 71,
     "metadata": {},
     "output_type": "execute_result"
    }
   ],
   "source": [
    "Z_df.head()"
   ]
  },
  {
   "cell_type": "code",
   "execution_count": 72,
   "metadata": {},
   "outputs": [
    {
     "data": {
      "text/html": [
       "<div>\n",
       "<style scoped>\n",
       "    .dataframe tbody tr th:only-of-type {\n",
       "        vertical-align: middle;\n",
       "    }\n",
       "\n",
       "    .dataframe tbody tr th {\n",
       "        vertical-align: top;\n",
       "    }\n",
       "\n",
       "    .dataframe thead th {\n",
       "        text-align: right;\n",
       "    }\n",
       "</style>\n",
       "<table border=\"1\" class=\"dataframe\">\n",
       "  <thead>\n",
       "    <tr style=\"text-align: right;\">\n",
       "      <th></th>\n",
       "      <th>cluster_one</th>\n",
       "      <th>cluster_two</th>\n",
       "      <th>distance</th>\n",
       "      <th>new_cluster_size</th>\n",
       "    </tr>\n",
       "  </thead>\n",
       "  <tbody>\n",
       "    <tr>\n",
       "      <th>49994</th>\n",
       "      <td>99979.0</td>\n",
       "      <td>99987.0</td>\n",
       "      <td>294.200536</td>\n",
       "      <td>14125.0</td>\n",
       "    </tr>\n",
       "    <tr>\n",
       "      <th>49995</th>\n",
       "      <td>99992.0</td>\n",
       "      <td>99994.0</td>\n",
       "      <td>384.078068</td>\n",
       "      <td>24315.0</td>\n",
       "    </tr>\n",
       "    <tr>\n",
       "      <th>49996</th>\n",
       "      <td>99991.0</td>\n",
       "      <td>99995.0</td>\n",
       "      <td>417.949135</td>\n",
       "      <td>29797.0</td>\n",
       "    </tr>\n",
       "    <tr>\n",
       "      <th>49997</th>\n",
       "      <td>99988.0</td>\n",
       "      <td>99996.0</td>\n",
       "      <td>469.968421</td>\n",
       "      <td>34720.0</td>\n",
       "    </tr>\n",
       "    <tr>\n",
       "      <th>49998</th>\n",
       "      <td>99993.0</td>\n",
       "      <td>99997.0</td>\n",
       "      <td>498.441848</td>\n",
       "      <td>50000.0</td>\n",
       "    </tr>\n",
       "  </tbody>\n",
       "</table>\n",
       "</div>"
      ],
      "text/plain": [
       "       cluster_one  cluster_two    distance  new_cluster_size\n",
       "49994      99979.0      99987.0  294.200536           14125.0\n",
       "49995      99992.0      99994.0  384.078068           24315.0\n",
       "49996      99991.0      99995.0  417.949135           29797.0\n",
       "49997      99988.0      99996.0  469.968421           34720.0\n",
       "49998      99993.0      99997.0  498.441848           50000.0"
      ]
     },
     "execution_count": 72,
     "metadata": {},
     "output_type": "execute_result"
    }
   ],
   "source": [
    "Z_df.tail()"
   ]
  },
  {
   "cell_type": "markdown",
   "metadata": {},
   "source": [
    "## Evaluating the Clustering Results\n",
    "Now that we have the dendrogram in place, let's determine where to cut off the dendrogram to make the number of clusters we desire. \n",
    "\n",
    "We will select 20 clusters to compare the hierarchical clustering with k-means. \n",
    "\n",
    "We will then use the clustering accuracy metric to judge how homogenous the hierarchical clustering clusters are. \n",
    "\n",
    "To get exactly 20 clusters, we need to experiment with the distance threshold, which can be done via ```fcluster``` library. "
   ]
  },
  {
   "cell_type": "code",
   "execution_count": 74,
   "metadata": {},
   "outputs": [],
   "source": [
    "from scipy.cluster.hierarchy import fcluster"
   ]
  },
  {
   "cell_type": "code",
   "execution_count": 85,
   "metadata": {},
   "outputs": [],
   "source": [
    "distance_threshold = 168\n",
    "clusters = fcluster(Z, distance_threshold, criterion=\"distance\")\n",
    "\n",
    "X_train_hier_clustered = pd.DataFrame(data=clusters, index=X_train_PCA.index, columns=['cluster'])"
   ]
  },
  {
   "cell_type": "code",
   "execution_count": 86,
   "metadata": {},
   "outputs": [
    {
     "name": "stdout",
     "output_type": "stream",
     "text": [
      "Number of distinct clusters: 20\n"
     ]
    }
   ],
   "source": [
    "# how many clusters?\n",
    "print(f\"Number of distinct clusters: {len(X_train_hier_clustered['cluster'].unique())}\")"
   ]
  },
  {
   "cell_type": "code",
   "execution_count": 87,
   "metadata": {},
   "outputs": [],
   "source": [
    "# Evaluating results\n",
    "count_by_cluster_hierCluster, count_by_label_hierCluster, count_most_freq_hierCluster, accuracy_DF_hierCluster, overall_accuracy_hierCluster, accuracy_by_label_hierCluster = analyze_cluster(X_train_hier_clustered, y_train)"
   ]
  },
  {
   "cell_type": "code",
   "execution_count": 88,
   "metadata": {},
   "outputs": [
    {
     "name": "stdout",
     "output_type": "stream",
     "text": [
      "Overall accuracy from hierachical clustering: 0.75482\n"
     ]
    }
   ],
   "source": [
    "print(f\"Overall accuracy from hierachical clustering: {overall_accuracy_hierCluster}\")"
   ]
  },
  {
   "cell_type": "markdown",
   "metadata": {},
   "source": [
    "### Real-Life Example:\n",
    "We would first apply dimensionality reduction (such as PCA), then we would perform clusterting (k-means, hierarchical), and finally we would hand label a few points per cluster. \n",
    "\n",
    "For example: for an mnist dataset, if we did not have any labels, we would look at a few images per cluster and label those images based on the digits they displayed. \n",
    "\n",
    "So long as the clusters were homogenous enough, the few hand labels we generated could be applied automatically to all the other images in the cluster. \n",
    "\n",
    "## DBSCAN\n",
    "*density-based spatial clustering of applications with noise*. This clustering algorithm groups based on the density of points. \n",
    "\n",
    "DBSCAN will group together closely packed points, where close together is defined as a minimum number of points that must exist within a certain distance. \n",
    "\n",
    "If the point is within distance of multiple clusters, it will be grouped with the cluster to which it is most densely located. \n",
    "\n",
    "Any instance that is not within this certain distance of another cluster is labeled as an outlier. \n",
    "\n",
    "DBSCAN is much less prone to distortion typically caused by outliers in the data. "
   ]
  },
  {
   "cell_type": "code",
   "execution_count": 89,
   "metadata": {},
   "outputs": [],
   "source": [
    "from sklearn.cluster import DBSCAN"
   ]
  },
  {
   "cell_type": "code",
   "execution_count": 90,
   "metadata": {},
   "outputs": [],
   "source": [
    "eps = 3 # minimum distance\n",
    "min_samples = 5\n",
    "leaf_size = 30\n",
    "n_jobs = 4"
   ]
  },
  {
   "cell_type": "code",
   "execution_count": 91,
   "metadata": {},
   "outputs": [],
   "source": [
    "db = DBSCAN(eps=eps,min_samples=min_samples,leaf_size=leaf_size,n_jobs=n_jobs)"
   ]
  },
  {
   "cell_type": "code",
   "execution_count": 92,
   "metadata": {},
   "outputs": [],
   "source": [
    "cutoff = 99\n",
    "\n",
    "X_train_PCA_dbscan_clustered = db.fit_predict(X_train_PCA.loc[:,0:cutoff])\n",
    "X_train_PCA_dbscan_clustered = pd.DataFrame(data=X_train_PCA_dbscan_clustered, index=X_train.index, columns=['cluster'])\n",
    "\n",
    "count_by_cluster_dbscan, count_by_label_dbscan, count_most_freq_dbscan, accuracy_DF_dbscan, overall_accuracy_dbscan, accuracy_by_label_dbscan = analyze_cluster(X_train_PCA_dbscan_clustered, y_train)"
   ]
  },
  {
   "cell_type": "code",
   "execution_count": 93,
   "metadata": {},
   "outputs": [
    {
     "data": {
      "text/plain": [
       "0.242"
      ]
     },
     "execution_count": 93,
     "metadata": {},
     "output_type": "execute_result"
    }
   ],
   "source": [
    "overall_accuracy_dbscan"
   ]
  },
  {
   "cell_type": "code",
   "execution_count": null,
   "metadata": {},
   "outputs": [],
   "source": []
  },
  {
   "cell_type": "code",
   "execution_count": null,
   "metadata": {},
   "outputs": [],
   "source": []
  },
  {
   "cell_type": "code",
   "execution_count": null,
   "metadata": {},
   "outputs": [],
   "source": []
  },
  {
   "cell_type": "code",
   "execution_count": null,
   "metadata": {},
   "outputs": [],
   "source": []
  },
  {
   "cell_type": "code",
   "execution_count": null,
   "metadata": {},
   "outputs": [],
   "source": []
  },
  {
   "cell_type": "code",
   "execution_count": null,
   "metadata": {},
   "outputs": [],
   "source": []
  },
  {
   "cell_type": "code",
   "execution_count": null,
   "metadata": {},
   "outputs": [],
   "source": []
  },
  {
   "cell_type": "code",
   "execution_count": null,
   "metadata": {},
   "outputs": [],
   "source": []
  }
 ],
 "metadata": {
  "kernelspec": {
   "display_name": "Python 3",
   "language": "python",
   "name": "python3"
  },
  "language_info": {
   "codemirror_mode": {
    "name": "ipython",
    "version": 3
   },
   "file_extension": ".py",
   "mimetype": "text/x-python",
   "name": "python",
   "nbconvert_exporter": "python",
   "pygments_lexer": "ipython3",
   "version": "3.6.8"
  }
 },
 "nbformat": 4,
 "nbformat_minor": 2
}
